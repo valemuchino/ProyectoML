{
 "cells": [
  {
   "cell_type": "code",
   "execution_count": 64,
   "metadata": {},
   "outputs": [],
   "source": [
    "#Importamos librerías\n",
    "import pandas as pd\n",
    "import numpy as np\n",
    "import matplotlib.pyplot as plt\n",
    "import seaborn as sns"
   ]
  },
  {
   "attachments": {},
   "cell_type": "markdown",
   "metadata": {},
   "source": [
    "### ***Cargamos los datasets***"
   ]
  },
  {
   "cell_type": "code",
   "execution_count": 65,
   "metadata": {},
   "outputs": [],
   "source": [
    "df_train = pd.read_parquet(\"dataset/train.parquet\")\n",
    "df_test = pd.read_parquet(\"dataset/test.parquet\")"
   ]
  },
  {
   "attachments": {},
   "cell_type": "markdown",
   "metadata": {},
   "source": [
    "### ***Análisis exploratorio***"
   ]
  },
  {
   "cell_type": "code",
   "execution_count": 45,
   "metadata": {},
   "outputs": [
    {
     "data": {
      "text/plain": [
       "id                           int64\n",
       "url                         object\n",
       "region                      object\n",
       "region_url                  object\n",
       "price                        int64\n",
       "type                        object\n",
       "sqfeet                       int64\n",
       "beds                         int64\n",
       "baths                      float64\n",
       "cats_allowed                 int64\n",
       "dogs_allowed                 int64\n",
       "smoking_allowed              int64\n",
       "wheelchair_access            int64\n",
       "electric_vehicle_charge      int64\n",
       "comes_furnished              int64\n",
       "laundry_options             object\n",
       "parking_options             object\n",
       "image_url                   object\n",
       "description                 object\n",
       "lat                        float64\n",
       "long                       float64\n",
       "state                       object\n",
       "dtype: object"
      ]
     },
     "execution_count": 45,
     "metadata": {},
     "output_type": "execute_result"
    }
   ],
   "source": [
    "#Tipos de datos en columnas\n",
    "df_train.dtypes"
   ]
  },
  {
   "cell_type": "code",
   "execution_count": 46,
   "metadata": {},
   "outputs": [
    {
     "data": {
      "text/plain": [
       "(346479, 22)"
      ]
     },
     "execution_count": 46,
     "metadata": {},
     "output_type": "execute_result"
    }
   ],
   "source": [
    "#Cantidad de filas y columnas\n",
    "df_train.shape"
   ]
  },
  {
   "cell_type": "code",
   "execution_count": 47,
   "metadata": {},
   "outputs": [
    {
     "data": {
      "text/plain": [
       "(38498, 21)"
      ]
     },
     "execution_count": 47,
     "metadata": {},
     "output_type": "execute_result"
    }
   ],
   "source": [
    "#Cantidad de filas y columnas\n",
    "df_test.shape"
   ]
  },
  {
   "cell_type": "code",
   "execution_count": 48,
   "metadata": {},
   "outputs": [
    {
     "data": {
      "text/plain": [
       "Index(['id', 'url', 'region', 'region_url', 'price', 'type', 'sqfeet', 'beds',\n",
       "       'baths', 'cats_allowed', 'dogs_allowed', 'smoking_allowed',\n",
       "       'wheelchair_access', 'electric_vehicle_charge', 'comes_furnished',\n",
       "       'laundry_options', 'parking_options', 'image_url', 'description', 'lat',\n",
       "       'long', 'state'],\n",
       "      dtype='object')"
      ]
     },
     "execution_count": 48,
     "metadata": {},
     "output_type": "execute_result"
    }
   ],
   "source": [
    "#Todas las columnas del dataframe\n",
    "df_train.columns"
   ]
  },
  {
   "cell_type": "code",
   "execution_count": 49,
   "metadata": {},
   "outputs": [
    {
     "data": {
      "text/plain": [
       "id                              0\n",
       "url                             0\n",
       "region                          0\n",
       "region_url                      0\n",
       "price                           0\n",
       "type                            0\n",
       "sqfeet                          0\n",
       "beds                            0\n",
       "baths                           0\n",
       "cats_allowed                    0\n",
       "dogs_allowed                    0\n",
       "smoking_allowed                 0\n",
       "wheelchair_access               0\n",
       "electric_vehicle_charge         0\n",
       "comes_furnished                 0\n",
       "laundry_options             71171\n",
       "parking_options            126682\n",
       "image_url                       0\n",
       "description                     2\n",
       "lat                          1722\n",
       "long                         1722\n",
       "state                           0\n",
       "dtype: int64"
      ]
     },
     "execution_count": 49,
     "metadata": {},
     "output_type": "execute_result"
    }
   ],
   "source": [
    "#Valores faltantes en columnas\n",
    "df_train.isna().sum()"
   ]
  },
  {
   "cell_type": "code",
   "execution_count": 50,
   "metadata": {},
   "outputs": [
    {
     "data": {
      "text/plain": [
       "True     178233\n",
       "False    168246\n",
       "dtype: int64"
      ]
     },
     "execution_count": 50,
     "metadata": {},
     "output_type": "execute_result"
    }
   ],
   "source": [
    "#Detecto duplicados en columna \"image_url\"\n",
    "#Podria significar que hay varios anuncios publicitando la misma casa\n",
    "df_train.duplicated(subset=\"image_url\").value_counts()"
   ]
  },
  {
   "cell_type": "code",
   "execution_count": 51,
   "metadata": {},
   "outputs": [
    {
     "data": {
      "text/plain": [
       "False    30546\n",
       "True      7952\n",
       "dtype: int64"
      ]
     },
     "execution_count": 51,
     "metadata": {},
     "output_type": "execute_result"
    }
   ],
   "source": [
    "df_test.duplicated(subset=\"image_url\").value_counts()"
   ]
  },
  {
   "cell_type": "code",
   "execution_count": 52,
   "metadata": {},
   "outputs": [
    {
     "data": {
      "text/html": [
       "<div>\n",
       "<style scoped>\n",
       "    .dataframe tbody tr th:only-of-type {\n",
       "        vertical-align: middle;\n",
       "    }\n",
       "\n",
       "    .dataframe tbody tr th {\n",
       "        vertical-align: top;\n",
       "    }\n",
       "\n",
       "    .dataframe thead th {\n",
       "        text-align: right;\n",
       "    }\n",
       "</style>\n",
       "<table border=\"1\" class=\"dataframe\">\n",
       "  <thead>\n",
       "    <tr style=\"text-align: right;\">\n",
       "      <th></th>\n",
       "      <th>lat</th>\n",
       "      <th>long</th>\n",
       "    </tr>\n",
       "  </thead>\n",
       "  <tbody>\n",
       "    <tr>\n",
       "      <th>count</th>\n",
       "      <td>344757.000000</td>\n",
       "      <td>344757.000000</td>\n",
       "    </tr>\n",
       "    <tr>\n",
       "      <th>mean</th>\n",
       "      <td>37.234363</td>\n",
       "      <td>-92.705415</td>\n",
       "    </tr>\n",
       "    <tr>\n",
       "      <th>std</th>\n",
       "      <td>5.550956</td>\n",
       "      <td>16.551071</td>\n",
       "    </tr>\n",
       "    <tr>\n",
       "      <th>min</th>\n",
       "      <td>-43.533300</td>\n",
       "      <td>-163.894000</td>\n",
       "    </tr>\n",
       "    <tr>\n",
       "      <th>25%</th>\n",
       "      <td>33.453100</td>\n",
       "      <td>-100.784000</td>\n",
       "    </tr>\n",
       "    <tr>\n",
       "      <th>50%</th>\n",
       "      <td>37.650100</td>\n",
       "      <td>-87.710800</td>\n",
       "    </tr>\n",
       "    <tr>\n",
       "      <th>75%</th>\n",
       "      <td>41.137900</td>\n",
       "      <td>-81.174600</td>\n",
       "    </tr>\n",
       "    <tr>\n",
       "      <th>max</th>\n",
       "      <td>102.036000</td>\n",
       "      <td>172.633000</td>\n",
       "    </tr>\n",
       "  </tbody>\n",
       "</table>\n",
       "</div>"
      ],
      "text/plain": [
       "                 lat           long\n",
       "count  344757.000000  344757.000000\n",
       "mean       37.234363     -92.705415\n",
       "std         5.550956      16.551071\n",
       "min       -43.533300    -163.894000\n",
       "25%        33.453100    -100.784000\n",
       "50%        37.650100     -87.710800\n",
       "75%        41.137900     -81.174600\n",
       "max       102.036000     172.633000"
      ]
     },
     "execution_count": 52,
     "metadata": {},
     "output_type": "execute_result"
    }
   ],
   "source": [
    "#Detecto que los valores en latitud y longitud son incorrectos\n",
    "df_train[[\"lat\", \"long\"]].describe()"
   ]
  },
  {
   "attachments": {},
   "cell_type": "markdown",
   "metadata": {},
   "source": [
    "### ***Feature Engineering***"
   ]
  },
  {
   "attachments": {},
   "cell_type": "markdown",
   "metadata": {},
   "source": [
    "En primer lugar voy a descartar las columnas que no son determinantes en el precio del inmueble"
   ]
  },
  {
   "cell_type": "code",
   "execution_count": 53,
   "metadata": {},
   "outputs": [
    {
     "data": {
      "text/plain": [
       "Index(['id', 'url', 'region', 'region_url', 'price', 'type', 'sqfeet', 'beds',\n",
       "       'baths', 'cats_allowed', 'dogs_allowed', 'smoking_allowed',\n",
       "       'wheelchair_access', 'electric_vehicle_charge', 'comes_furnished',\n",
       "       'laundry_options', 'parking_options', 'image_url', 'description', 'lat',\n",
       "       'long', 'state'],\n",
       "      dtype='object')"
      ]
     },
     "execution_count": 53,
     "metadata": {},
     "output_type": "execute_result"
    }
   ],
   "source": [
    "df_train.columns"
   ]
  },
  {
   "cell_type": "code",
   "execution_count": 66,
   "metadata": {},
   "outputs": [],
   "source": [
    "df_train.drop(columns=['id', 'url', 'region_url', 'image_url', 'description'], inplace=True)"
   ]
  },
  {
   "attachments": {},
   "cell_type": "markdown",
   "metadata": {},
   "source": [
    "También descarto las columnas de \"latitud\" y \"longitud\", ya que poseen valores incorrectos y tengo otros features como \"state\" y \"region\" que proveen información de la ubicación del inmueble."
   ]
  },
  {
   "cell_type": "code",
   "execution_count": 67,
   "metadata": {},
   "outputs": [],
   "source": [
    "df_train.drop(columns=[\"lat\", \"long\"], inplace=True)"
   ]
  },
  {
   "attachments": {},
   "cell_type": "markdown",
   "metadata": {},
   "source": [
    "Así nos quedó el dataframe:"
   ]
  },
  {
   "cell_type": "code",
   "execution_count": 56,
   "metadata": {},
   "outputs": [
    {
     "data": {
      "text/plain": [
       "Index(['region', 'price', 'type', 'sqfeet', 'beds', 'baths', 'cats_allowed',\n",
       "       'dogs_allowed', 'smoking_allowed', 'wheelchair_access',\n",
       "       'electric_vehicle_charge', 'comes_furnished', 'laundry_options',\n",
       "       'parking_options', 'state'],\n",
       "      dtype='object')"
      ]
     },
     "execution_count": 56,
     "metadata": {},
     "output_type": "execute_result"
    }
   ],
   "source": [
    "df_train.columns"
   ]
  },
  {
   "attachments": {},
   "cell_type": "markdown",
   "metadata": {},
   "source": [
    "Para que el modelo de ML pueda comprender toda la información, vamos a convertir las columnas string en un valor numérico"
   ]
  },
  {
   "cell_type": "code",
   "execution_count": 68,
   "metadata": {},
   "outputs": [],
   "source": [
    "#Convertimos cada valor string en un número\n",
    "from sklearn import preprocessing\n",
    "label_encoder = preprocessing.LabelEncoder()\n",
    "\n",
    "columnas = ['region', 'type', 'state', 'laundry_options', 'parking_options']\n",
    "for columna in columnas:\n",
    "    df_train[columna] = label_encoder.fit_transform(df_train[columna])"
   ]
  },
  {
   "cell_type": "code",
   "execution_count": 69,
   "metadata": {},
   "outputs": [],
   "source": [
    "#Cambiamos el tipo de dato de las columnas\n",
    "columnas = {'region': \"int64\", 'type': \"int64\", 'state': \"int64\", \n",
    "            'laundry_options': \"int64\", 'parking_options': \"int64\", 'baths': \"int64\"}\n",
    "df_train = df_train.astype(columnas)"
   ]
  },
  {
   "cell_type": "code",
   "execution_count": 70,
   "metadata": {},
   "outputs": [
    {
     "data": {
      "text/plain": [
       "region                     int64\n",
       "price                      int64\n",
       "type                       int64\n",
       "sqfeet                     int64\n",
       "beds                       int64\n",
       "baths                      int64\n",
       "cats_allowed               int64\n",
       "dogs_allowed               int64\n",
       "smoking_allowed            int64\n",
       "wheelchair_access          int64\n",
       "electric_vehicle_charge    int64\n",
       "comes_furnished            int64\n",
       "laundry_options            int64\n",
       "parking_options            int64\n",
       "state                      int64\n",
       "dtype: object"
      ]
     },
     "execution_count": 70,
     "metadata": {},
     "output_type": "execute_result"
    }
   ],
   "source": [
    "df_train.dtypes"
   ]
  },
  {
   "cell_type": "code",
   "execution_count": 68,
   "metadata": {},
   "outputs": [
    {
     "data": {
      "text/html": [
       "<div>\n",
       "<style scoped>\n",
       "    .dataframe tbody tr th:only-of-type {\n",
       "        vertical-align: middle;\n",
       "    }\n",
       "\n",
       "    .dataframe tbody tr th {\n",
       "        vertical-align: top;\n",
       "    }\n",
       "\n",
       "    .dataframe thead th {\n",
       "        text-align: right;\n",
       "    }\n",
       "</style>\n",
       "<table border=\"1\" class=\"dataframe\">\n",
       "  <thead>\n",
       "    <tr style=\"text-align: right;\">\n",
       "      <th></th>\n",
       "      <th>region</th>\n",
       "      <th>price</th>\n",
       "      <th>type</th>\n",
       "      <th>sqfeet</th>\n",
       "      <th>beds</th>\n",
       "      <th>baths</th>\n",
       "      <th>cats_allowed</th>\n",
       "      <th>dogs_allowed</th>\n",
       "      <th>smoking_allowed</th>\n",
       "      <th>wheelchair_access</th>\n",
       "      <th>electric_vehicle_charge</th>\n",
       "      <th>comes_furnished</th>\n",
       "      <th>laundry_options</th>\n",
       "      <th>parking_options</th>\n",
       "      <th>state</th>\n",
       "    </tr>\n",
       "  </thead>\n",
       "  <tbody>\n",
       "    <tr>\n",
       "      <th>0</th>\n",
       "      <td>33</td>\n",
       "      <td>1350</td>\n",
       "      <td>6</td>\n",
       "      <td>1200</td>\n",
       "      <td>2</td>\n",
       "      <td>2</td>\n",
       "      <td>1</td>\n",
       "      <td>1</td>\n",
       "      <td>1</td>\n",
       "      <td>0</td>\n",
       "      <td>0</td>\n",
       "      <td>0</td>\n",
       "      <td>4</td>\n",
       "      <td>2</td>\n",
       "      <td>13</td>\n",
       "    </tr>\n",
       "    <tr>\n",
       "      <th>1</th>\n",
       "      <td>64</td>\n",
       "      <td>1115</td>\n",
       "      <td>0</td>\n",
       "      <td>694</td>\n",
       "      <td>1</td>\n",
       "      <td>1</td>\n",
       "      <td>1</td>\n",
       "      <td>1</td>\n",
       "      <td>1</td>\n",
       "      <td>0</td>\n",
       "      <td>0</td>\n",
       "      <td>0</td>\n",
       "      <td>4</td>\n",
       "      <td>1</td>\n",
       "      <td>5</td>\n",
       "    </tr>\n",
       "  </tbody>\n",
       "</table>\n",
       "</div>"
      ],
      "text/plain": [
       "   region  price  type  sqfeet  beds  baths  cats_allowed  dogs_allowed  \\\n",
       "0      33   1350     6    1200     2      2             1             1   \n",
       "1      64   1115     0     694     1      1             1             1   \n",
       "\n",
       "   smoking_allowed  wheelchair_access  electric_vehicle_charge  \\\n",
       "0                1                  0                        0   \n",
       "1                1                  0                        0   \n",
       "\n",
       "   comes_furnished  laundry_options  parking_options  state  \n",
       "0                0                4                2     13  \n",
       "1                0                4                1      5  "
      ]
     },
     "execution_count": 68,
     "metadata": {},
     "output_type": "execute_result"
    }
   ],
   "source": [
    "df_train.head(2)"
   ]
  },
  {
   "attachments": {},
   "cell_type": "markdown",
   "metadata": {},
   "source": [
    "Creamos la columna \"category_price\" que nos indica si el inmueble tiene precio \"high\", \"medium\" o \"low\""
   ]
  },
  {
   "cell_type": "code",
   "execution_count": 71,
   "metadata": {},
   "outputs": [],
   "source": [
    "col = \"price\"\n",
    "conditions = [df_train[col] >= 2000, (df_train[col] < 1999) & (df_train[col] > 999), df_train[col] <= 999]\n",
    "choices = [\"high\", \"medium\", \"low\"]\n",
    "\n",
    "df_train[\"category_price\"] = np.select(conditions, choices, default=np.nan)"
   ]
  },
  {
   "attachments": {},
   "cell_type": "markdown",
   "metadata": {},
   "source": [
    "Creamos la columna \"is_low\" para indicar si el inmueble tiene precio \"low\" o no."
   ]
  },
  {
   "cell_type": "code",
   "execution_count": 72,
   "metadata": {},
   "outputs": [],
   "source": [
    "#Si toma el valor 1, significa que el valor es menor a 999 dolares, osea es \"low\"\n",
    "df_train[\"is_low\"] = np.where(df_train[\"price\"] <= 999, 1, 0)"
   ]
  },
  {
   "attachments": {},
   "cell_type": "markdown",
   "metadata": {},
   "source": [
    "Así nos quedo el dataframe:"
   ]
  },
  {
   "cell_type": "code",
   "execution_count": 86,
   "metadata": {},
   "outputs": [
    {
     "data": {
      "text/html": [
       "<div>\n",
       "<style scoped>\n",
       "    .dataframe tbody tr th:only-of-type {\n",
       "        vertical-align: middle;\n",
       "    }\n",
       "\n",
       "    .dataframe tbody tr th {\n",
       "        vertical-align: top;\n",
       "    }\n",
       "\n",
       "    .dataframe thead th {\n",
       "        text-align: right;\n",
       "    }\n",
       "</style>\n",
       "<table border=\"1\" class=\"dataframe\">\n",
       "  <thead>\n",
       "    <tr style=\"text-align: right;\">\n",
       "      <th></th>\n",
       "      <th>region</th>\n",
       "      <th>price</th>\n",
       "      <th>type</th>\n",
       "      <th>sqfeet</th>\n",
       "      <th>beds</th>\n",
       "      <th>baths</th>\n",
       "      <th>cats_allowed</th>\n",
       "      <th>dogs_allowed</th>\n",
       "      <th>smoking_allowed</th>\n",
       "      <th>wheelchair_access</th>\n",
       "      <th>electric_vehicle_charge</th>\n",
       "      <th>comes_furnished</th>\n",
       "      <th>laundry_options</th>\n",
       "      <th>parking_options</th>\n",
       "      <th>state</th>\n",
       "      <th>category_price</th>\n",
       "      <th>is_low</th>\n",
       "    </tr>\n",
       "  </thead>\n",
       "  <tbody>\n",
       "    <tr>\n",
       "      <th>0</th>\n",
       "      <td>33</td>\n",
       "      <td>1350</td>\n",
       "      <td>6</td>\n",
       "      <td>1200</td>\n",
       "      <td>2</td>\n",
       "      <td>2</td>\n",
       "      <td>1</td>\n",
       "      <td>1</td>\n",
       "      <td>1</td>\n",
       "      <td>0</td>\n",
       "      <td>0</td>\n",
       "      <td>0</td>\n",
       "      <td>4</td>\n",
       "      <td>2</td>\n",
       "      <td>13</td>\n",
       "      <td>medium</td>\n",
       "      <td>0</td>\n",
       "    </tr>\n",
       "    <tr>\n",
       "      <th>1</th>\n",
       "      <td>64</td>\n",
       "      <td>1115</td>\n",
       "      <td>0</td>\n",
       "      <td>694</td>\n",
       "      <td>1</td>\n",
       "      <td>1</td>\n",
       "      <td>1</td>\n",
       "      <td>1</td>\n",
       "      <td>1</td>\n",
       "      <td>0</td>\n",
       "      <td>0</td>\n",
       "      <td>0</td>\n",
       "      <td>4</td>\n",
       "      <td>1</td>\n",
       "      <td>5</td>\n",
       "      <td>medium</td>\n",
       "      <td>0</td>\n",
       "    </tr>\n",
       "    <tr>\n",
       "      <th>2</th>\n",
       "      <td>236</td>\n",
       "      <td>1129</td>\n",
       "      <td>0</td>\n",
       "      <td>900</td>\n",
       "      <td>2</td>\n",
       "      <td>2</td>\n",
       "      <td>0</td>\n",
       "      <td>0</td>\n",
       "      <td>1</td>\n",
       "      <td>0</td>\n",
       "      <td>0</td>\n",
       "      <td>0</td>\n",
       "      <td>3</td>\n",
       "      <td>4</td>\n",
       "      <td>45</td>\n",
       "      <td>medium</td>\n",
       "      <td>0</td>\n",
       "    </tr>\n",
       "    <tr>\n",
       "      <th>3</th>\n",
       "      <td>269</td>\n",
       "      <td>1580</td>\n",
       "      <td>6</td>\n",
       "      <td>1469</td>\n",
       "      <td>3</td>\n",
       "      <td>2</td>\n",
       "      <td>1</td>\n",
       "      <td>1</td>\n",
       "      <td>1</td>\n",
       "      <td>0</td>\n",
       "      <td>0</td>\n",
       "      <td>0</td>\n",
       "      <td>4</td>\n",
       "      <td>7</td>\n",
       "      <td>3</td>\n",
       "      <td>medium</td>\n",
       "      <td>0</td>\n",
       "    </tr>\n",
       "    <tr>\n",
       "      <th>4</th>\n",
       "      <td>230</td>\n",
       "      <td>995</td>\n",
       "      <td>0</td>\n",
       "      <td>700</td>\n",
       "      <td>1</td>\n",
       "      <td>1</td>\n",
       "      <td>1</td>\n",
       "      <td>1</td>\n",
       "      <td>1</td>\n",
       "      <td>0</td>\n",
       "      <td>0</td>\n",
       "      <td>0</td>\n",
       "      <td>4</td>\n",
       "      <td>1</td>\n",
       "      <td>42</td>\n",
       "      <td>low</td>\n",
       "      <td>1</td>\n",
       "    </tr>\n",
       "  </tbody>\n",
       "</table>\n",
       "</div>"
      ],
      "text/plain": [
       "   region  price  type  sqfeet  beds  baths  cats_allowed  dogs_allowed  \\\n",
       "0      33   1350     6    1200     2      2             1             1   \n",
       "1      64   1115     0     694     1      1             1             1   \n",
       "2     236   1129     0     900     2      2             0             0   \n",
       "3     269   1580     6    1469     3      2             1             1   \n",
       "4     230    995     0     700     1      1             1             1   \n",
       "\n",
       "   smoking_allowed  wheelchair_access  electric_vehicle_charge  \\\n",
       "0                1                  0                        0   \n",
       "1                1                  0                        0   \n",
       "2                1                  0                        0   \n",
       "3                1                  0                        0   \n",
       "4                1                  0                        0   \n",
       "\n",
       "   comes_furnished  laundry_options  parking_options  state category_price  \\\n",
       "0                0                4                2     13         medium   \n",
       "1                0                4                1      5         medium   \n",
       "2                0                3                4     45         medium   \n",
       "3                0                4                7      3         medium   \n",
       "4                0                4                1     42            low   \n",
       "\n",
       "   is_low  \n",
       "0       0  \n",
       "1       0  \n",
       "2       0  \n",
       "3       0  \n",
       "4       1  "
      ]
     },
     "execution_count": 86,
     "metadata": {},
     "output_type": "execute_result"
    }
   ],
   "source": [
    "df_train.head()"
   ]
  },
  {
   "attachments": {},
   "cell_type": "markdown",
   "metadata": {},
   "source": [
    "### **`Machine Learning: Árbol de Decisión`**"
   ]
  },
  {
   "attachments": {},
   "cell_type": "markdown",
   "metadata": {},
   "source": [
    "Elegí este modelo porque la problemática consistía en **`clasificar si un inmueble posee precio \"low\" o no`**. Por lo tanto, dentro de las diferentes variables de modelos de clasificación, el árbol de decisión posee las cualidades que según yo, se adaptan mejor a los datos que se deben trabajar <br>\n",
    "\n",
    "Esas cualidades son:\n",
    "- **Fácilmente comprensible:** los árboles de decisión son fáciles de entender e interpretar, ya que proporcionan una forma de visualizar los algoritmos.\n",
    "\n",
    "- **Requisito bajo o nulo para el preprocesamiento de datos:** a diferencia de otros algoritmos, los árboles de decisión toman menos tiempo para el modelado, ya que necesitan poco análisis, codificación y variables ficticias porque para cada punto de datos, habrá un conjunto completo.\n",
    "\n",
    "- **Versatilidad de los datos:** podemos estandarizar los datos aunque no los poseamos. Podemos incluir datos categóricos y numéricos, ya que funciona bien con ambos."
   ]
  },
  {
   "cell_type": "code",
   "execution_count": 73,
   "metadata": {},
   "outputs": [],
   "source": [
    "#Importamos las librerias\n",
    "\n",
    "from sklearn.tree import DecisionTreeClassifier\n",
    "from sklearn.model_selection import train_test_split\n",
    "from sklearn.metrics import accuracy_score"
   ]
  },
  {
   "cell_type": "code",
   "execution_count": 74,
   "metadata": {},
   "outputs": [],
   "source": [
    "#Instanciamos el modelo con una profundidad de 18\n",
    "tree = DecisionTreeClassifier(max_depth = 18)\n",
    "\n",
    "#Seleccionamos los features y el target\n",
    "X = df_train[['region', 'sqfeet', 'beds', 'baths', 'cats_allowed',\n",
    "       'dogs_allowed', 'smoking_allowed', 'wheelchair_access',\n",
    "       'electric_vehicle_charge', 'comes_furnished', 'state', 'laundry_options', 'parking_options']]\n",
    "y = df_train[\"is_low\"]\n",
    "\n",
    "#Dividimos el dataframe para poder testearlo\n",
    "X_train, X_test, y_train, y_test = train_test_split(X, y, test_size=0.3)"
   ]
  },
  {
   "cell_type": "code",
   "execution_count": 75,
   "metadata": {},
   "outputs": [],
   "source": [
    "#Entrenamos el modelo\n",
    "tree.fit(X_train, y_train)\n",
    "\n",
    "#Hacemos la predicción\n",
    "y_pred = tree.predict(X_test)"
   ]
  },
  {
   "attachments": {},
   "cell_type": "markdown",
   "metadata": {},
   "source": [
    "Verificamos el accuracy del modelo"
   ]
  },
  {
   "cell_type": "code",
   "execution_count": 76,
   "metadata": {},
   "outputs": [
    {
     "name": "stdout",
     "output_type": "stream",
     "text": [
      "Accuracy en el set de entrenamiento 0.9426103448986745\n",
      "Accuracy en el set de testeo 0.9047083044716385\n"
     ]
    }
   ],
   "source": [
    "print(\"Accuracy en el set de entrenamiento\", tree.score(X_train, y_train))\n",
    "print(\"Accuracy en el set de testeo\", tree.score(X_test, y_test))"
   ]
  },
  {
   "attachments": {},
   "cell_type": "markdown",
   "metadata": {},
   "source": [
    "Obtuvimos un gran desempeño del modelo y se puede decir que es capaz de predecir efectivamente. El accuracy en el set de entrenamiento nos indica que tanto el modelo se estudio los datos de memoria y su capacidad de generalizar (overfitting-underfitting). El accuracy en el set de testeo nos indica como respondió el modelo frente a nueva información."
   ]
  },
  {
   "attachments": {},
   "cell_type": "markdown",
   "metadata": {},
   "source": [
    "#### `Validación Cruzada`"
   ]
  },
  {
   "attachments": {},
   "cell_type": "markdown",
   "metadata": {},
   "source": [
    "Aplico \"cross_validate\" para obtener una estimación menos sesgada y más realista del funcionamiento del modelo."
   ]
  },
  {
   "cell_type": "code",
   "execution_count": 77,
   "metadata": {},
   "outputs": [],
   "source": [
    "from sklearn.model_selection import cross_validate"
   ]
  },
  {
   "cell_type": "code",
   "execution_count": 78,
   "metadata": {},
   "outputs": [],
   "source": [
    "tree_scores = cross_validate(tree, X, y, cv=5, scoring = ['accuracy','recall'])"
   ]
  },
  {
   "cell_type": "code",
   "execution_count": 79,
   "metadata": {},
   "outputs": [
    {
     "name": "stdout",
     "output_type": "stream",
     "text": [
      "{'fit_time': array([1.06355786, 1.05167055, 1.05037379, 0.97621989, 0.99222469]), 'score_time': array([0.04153013, 0.04103994, 0.04100966, 0.04001045, 0.0410099 ]), 'test_accuracy': array([0.90529035, 0.90243304, 0.9047997 , 0.90472755, 0.90422108]), 'test_recall': array([0.88325916, 0.88160966, 0.88095609, 0.88484641, 0.88568316])}\n"
     ]
    }
   ],
   "source": [
    "print(tree_scores)"
   ]
  },
  {
   "attachments": {},
   "cell_type": "markdown",
   "metadata": {},
   "source": [
    "### **`Machine Learning: Random Forest`**"
   ]
  },
  {
   "attachments": {},
   "cell_type": "markdown",
   "metadata": {},
   "source": [
    "Anteriormente vimos que el árbol de decisión obtuvo un buen desempeño, pero podemos mejorarlo utilizando RandomForest, que es un conjunto de árboles de decisión <br>\n",
    "\n",
    "Aplicar RandomForest posee las siguientes ventajas:\n",
    "- **Entrenamiento aleatorio:** por cada árbol creado, se selecciona un set de entrenamiento distinto, lo que reduce el sesgo del modelo.\n",
    "\n",
    "- **Features aleatorios:** por cada árbol creado, el modelo selecciona features aleatorios al dividir los nodos. Lo que permite detectar los features más importantes y más determinantes."
   ]
  },
  {
   "cell_type": "code",
   "execution_count": 80,
   "metadata": {},
   "outputs": [],
   "source": [
    "#Importamos el modelo\n",
    "from sklearn.ensemble import RandomForestClassifier"
   ]
  },
  {
   "cell_type": "code",
   "execution_count": 81,
   "metadata": {},
   "outputs": [],
   "source": [
    "#Instanciamos el modelo con cantidad de 200 árboles.\n",
    "clf = RandomForestClassifier(n_estimators=200)\n",
    "\n",
    "#Seleccionamos los features y el target\n",
    "X = df_train[['region', 'type', 'sqfeet', 'beds', 'baths', 'cats_allowed',\n",
    "       'dogs_allowed', 'smoking_allowed', 'wheelchair_access',\n",
    "       'electric_vehicle_charge', 'comes_furnished', 'state', 'laundry_options', 'parking_options']]\n",
    "y = df_train[\"is_low\"]\n",
    "\n",
    "#Dividimos el dataframe para testearlo\n",
    "X_train, X_test, y_train, y_test = train_test_split(X, y, test_size=0.3)"
   ]
  },
  {
   "cell_type": "code",
   "execution_count": 82,
   "metadata": {},
   "outputs": [],
   "source": [
    "#Entrenamos el modelo\n",
    "clf.fit(X_train,y_train)\n",
    "\n",
    "#Hacemos la predicción\n",
    "y_pred = clf.predict(X_test)"
   ]
  },
  {
   "attachments": {},
   "cell_type": "markdown",
   "metadata": {},
   "source": [
    "Verificamos el accuracy del modelo"
   ]
  },
  {
   "cell_type": "code",
   "execution_count": 83,
   "metadata": {},
   "outputs": [
    {
     "name": "stdout",
     "output_type": "stream",
     "text": [
      "Accuracy en el set de entrenamiento 0.9867153194384316\n",
      "Accuracy en el set de testeo 0.9358885553759717\n"
     ]
    }
   ],
   "source": [
    "print(\"Accuracy en el set de entrenamiento\", clf.score(X_train, y_train))\n",
    "print(\"Accuracy en el set de testeo\", clf.score(X_test, y_test))"
   ]
  },
  {
   "attachments": {},
   "cell_type": "markdown",
   "metadata": {},
   "source": [
    "#### **`Features con mayor importancia`**"
   ]
  },
  {
   "cell_type": "code",
   "execution_count": 84,
   "metadata": {},
   "outputs": [
    {
     "data": {
      "text/plain": [
       "sqfeet                     0.252789\n",
       "state                      0.221579\n",
       "region                     0.194270\n",
       "laundry_options            0.092733\n",
       "parking_options            0.061191\n",
       "baths                      0.049108\n",
       "beds                       0.037176\n",
       "type                       0.027427\n",
       "smoking_allowed            0.017375\n",
       "dogs_allowed               0.011915\n",
       "cats_allowed               0.011607\n",
       "comes_furnished            0.010637\n",
       "wheelchair_access          0.009685\n",
       "electric_vehicle_charge    0.002507\n",
       "dtype: float64"
      ]
     },
     "execution_count": 84,
     "metadata": {},
     "output_type": "execute_result"
    }
   ],
   "source": [
    "feature_imp = pd.Series(clf.feature_importances_,index=clf.feature_names_in_).sort_values(ascending=False)\n",
    "feature_imp"
   ]
  },
  {
   "attachments": {},
   "cell_type": "markdown",
   "metadata": {},
   "source": [
    "Detectamos que **`\"sqfeet\"`** (pies cuadrados del inmueble), **`\"state\"`** y **`\"region\"`** (estado y región donde se ubica el inmueble) son los features más determinantes a la hora de predecir el valor de la propiedad"
   ]
  },
  {
   "attachments": {},
   "cell_type": "markdown",
   "metadata": {},
   "source": [
    "#### Creacion de un nuevo RandomForest con los features mas importantes"
   ]
  },
  {
   "cell_type": "code",
   "execution_count": 87,
   "metadata": {},
   "outputs": [],
   "source": [
    "#Instanciamos el modelo\n",
    "clf2 = RandomForestClassifier(n_estimators=200)\n",
    "\n",
    "#Seleccionamos features y target\n",
    "X = df_train[['region', 'sqfeet', 'state']]\n",
    "y = df_train[\"is_low\"]\n",
    "\n",
    "#Separamos el dataframe\n",
    "X_train, X_test, y_train, y_test = train_test_split(X, y, test_size=0.3)"
   ]
  },
  {
   "cell_type": "code",
   "execution_count": 88,
   "metadata": {},
   "outputs": [],
   "source": [
    "#Entrenamos el modelo\n",
    "clf2.fit(X_train,y_train)\n",
    "\n",
    "#Hacemos la predicción\n",
    "y_pred = clf2.predict(X_test)"
   ]
  },
  {
   "cell_type": "code",
   "execution_count": 89,
   "metadata": {},
   "outputs": [
    {
     "name": "stdout",
     "output_type": "stream",
     "text": [
      "Accuracy en el set de entrenamiento 0.9507617457274208\n",
      "Accuracy en el set de testeo 0.9101150619564381\n"
     ]
    }
   ],
   "source": [
    "print(\"Accuracy en el set de entrenamiento\", clf2.score(X_train, y_train))\n",
    "print(\"Accuracy en el set de testeo\", clf2.score(X_test, y_test))"
   ]
  },
  {
   "attachments": {},
   "cell_type": "markdown",
   "metadata": {},
   "source": [
    "Obtuvimos un resultado muy similar y **`pasamos de 14 features a solamente 3!`**. Ademas reducimos notablemente los tiempos del modelo en entrenarse y predecir los resultados. <br>"
   ]
  },
  {
   "attachments": {},
   "cell_type": "markdown",
   "metadata": {},
   "source": [
    "####  Aplicamos la misma transformación a \"df_test\""
   ]
  },
  {
   "cell_type": "code",
   "execution_count": 90,
   "metadata": {},
   "outputs": [],
   "source": [
    "#Eliminamos columnas\n",
    "df_test.drop(columns=['id', 'url', 'region_url', 'image_url', 'description'], inplace=True)\n",
    "df_test.drop(columns=[\"lat\", \"long\"], inplace=True)"
   ]
  },
  {
   "cell_type": "code",
   "execution_count": 91,
   "metadata": {},
   "outputs": [],
   "source": [
    "#Convertimos cada valor string en un número\n",
    "from sklearn import preprocessing\n",
    "label_encoder = preprocessing.LabelEncoder()\n",
    "\n",
    "columnas = ['region', 'type', 'state', 'laundry_options', 'parking_options']\n",
    "for columna in columnas:\n",
    "    df_test[columna] = label_encoder.fit_transform(df_test[columna])"
   ]
  },
  {
   "cell_type": "code",
   "execution_count": 92,
   "metadata": {},
   "outputs": [],
   "source": [
    "#Cambiamos el tipo de dato de las columnas\n",
    "columnas = {'region': \"int64\", 'type': \"int64\", 'state': \"int64\", \n",
    "            'laundry_options': \"int64\", 'parking_options': \"int64\", 'baths': \"int64\"}\n",
    "df_test = df_test.astype(columnas)"
   ]
  },
  {
   "attachments": {},
   "cell_type": "markdown",
   "metadata": {},
   "source": [
    "#### Testeamos el modelo ya entrenado con df_test"
   ]
  },
  {
   "cell_type": "code",
   "execution_count": 93,
   "metadata": {},
   "outputs": [],
   "source": [
    "#Seleccionamos los features del X_test\n",
    "X = df_test[['region', 'type', 'sqfeet', 'beds', 'baths', 'cats_allowed',\n",
    "       'dogs_allowed', 'smoking_allowed', 'wheelchair_access',\n",
    "       'electric_vehicle_charge', 'comes_furnished', 'state', 'laundry_options', 'parking_options']]"
   ]
  },
  {
   "cell_type": "code",
   "execution_count": 94,
   "metadata": {},
   "outputs": [],
   "source": [
    "#Predecimos\n",
    "pred = clf.predict(X)"
   ]
  },
  {
   "cell_type": "code",
   "execution_count": 95,
   "metadata": {},
   "outputs": [],
   "source": [
    "#Convertimos la predicción a un dataframe\n",
    "prediccion = pd.DataFrame(data=pred, columns=[\"pred\"])"
   ]
  },
  {
   "cell_type": "code",
   "execution_count": 96,
   "metadata": {},
   "outputs": [
    {
     "data": {
      "text/html": [
       "<div>\n",
       "<style scoped>\n",
       "    .dataframe tbody tr th:only-of-type {\n",
       "        vertical-align: middle;\n",
       "    }\n",
       "\n",
       "    .dataframe tbody tr th {\n",
       "        vertical-align: top;\n",
       "    }\n",
       "\n",
       "    .dataframe thead th {\n",
       "        text-align: right;\n",
       "    }\n",
       "</style>\n",
       "<table border=\"1\" class=\"dataframe\">\n",
       "  <thead>\n",
       "    <tr style=\"text-align: right;\">\n",
       "      <th></th>\n",
       "      <th>pred</th>\n",
       "    </tr>\n",
       "  </thead>\n",
       "  <tbody>\n",
       "    <tr>\n",
       "      <th>0</th>\n",
       "      <td>0</td>\n",
       "    </tr>\n",
       "    <tr>\n",
       "      <th>1</th>\n",
       "      <td>1</td>\n",
       "    </tr>\n",
       "    <tr>\n",
       "      <th>2</th>\n",
       "      <td>0</td>\n",
       "    </tr>\n",
       "    <tr>\n",
       "      <th>3</th>\n",
       "      <td>0</td>\n",
       "    </tr>\n",
       "    <tr>\n",
       "      <th>4</th>\n",
       "      <td>0</td>\n",
       "    </tr>\n",
       "    <tr>\n",
       "      <th>...</th>\n",
       "      <td>...</td>\n",
       "    </tr>\n",
       "    <tr>\n",
       "      <th>38493</th>\n",
       "      <td>0</td>\n",
       "    </tr>\n",
       "    <tr>\n",
       "      <th>38494</th>\n",
       "      <td>1</td>\n",
       "    </tr>\n",
       "    <tr>\n",
       "      <th>38495</th>\n",
       "      <td>0</td>\n",
       "    </tr>\n",
       "    <tr>\n",
       "      <th>38496</th>\n",
       "      <td>0</td>\n",
       "    </tr>\n",
       "    <tr>\n",
       "      <th>38497</th>\n",
       "      <td>0</td>\n",
       "    </tr>\n",
       "  </tbody>\n",
       "</table>\n",
       "<p>38498 rows × 1 columns</p>\n",
       "</div>"
      ],
      "text/plain": [
       "       pred\n",
       "0         0\n",
       "1         1\n",
       "2         0\n",
       "3         0\n",
       "4         0\n",
       "...     ...\n",
       "38493     0\n",
       "38494     1\n",
       "38495     0\n",
       "38496     0\n",
       "38497     0\n",
       "\n",
       "[38498 rows x 1 columns]"
      ]
     },
     "execution_count": 96,
     "metadata": {},
     "output_type": "execute_result"
    }
   ],
   "source": [
    "#Visualizamos el dataframe\n",
    "prediccion"
   ]
  },
  {
   "attachments": {},
   "cell_type": "markdown",
   "metadata": {},
   "source": [
    "Finalmente, exportamos las predicciones a formato csv"
   ]
  },
  {
   "cell_type": "code",
   "execution_count": 97,
   "metadata": {},
   "outputs": [],
   "source": [
    "prediccion.to_csv(\"prediccion.csv\", index=False)"
   ]
  }
 ],
 "metadata": {
  "kernelspec": {
   "display_name": "Python 3",
   "language": "python",
   "name": "python3"
  },
  "language_info": {
   "codemirror_mode": {
    "name": "ipython",
    "version": 3
   },
   "file_extension": ".py",
   "mimetype": "text/x-python",
   "name": "python",
   "nbconvert_exporter": "python",
   "pygments_lexer": "ipython3",
   "version": "3.10.9"
  },
  "orig_nbformat": 4,
  "vscode": {
   "interpreter": {
    "hash": "42153c4c753c9b011111c714d0476e53a03e7d305dd65353e4e91ed368c332d6"
   }
  }
 },
 "nbformat": 4,
 "nbformat_minor": 2
}
